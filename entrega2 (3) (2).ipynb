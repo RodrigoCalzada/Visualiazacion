{
 "cells": [
  {
   "cell_type": "markdown",
   "id": "d324c3af-a001-4ab4-8439-06fe9beec678",
   "metadata": {},
   "source": [
    "# Presentación final entregable A00828516"
   ]
  },
  {
   "cell_type": "raw",
   "id": "a5d9d15b-ee34-497d-a2c2-de4b2c2fec95",
   "metadata": {},
   "source": [
    "A lo largo de este archivo se presentarán todos los procedimientos realizados sobre mi base de datos"
   ]
  },
  {
   "cell_type": "code",
   "execution_count": 3,
   "id": "da89c8d6-41bf-42ea-9838-e8d2751e1bf6",
   "metadata": {},
   "outputs": [],
   "source": [
    "import pandas as pd\n",
    "import numpy as np\n",
    "import seaborn as sns\n",
    "import matplotlib as mpl\n",
    "import matplotlib.pyplot as plt\n",
    "import statsmodels.api as sm"
   ]
  },
  {
   "cell_type": "code",
   "execution_count": 4,
   "id": "9a678bc3-f3d4-44c3-ae32-197210a1b85a",
   "metadata": {},
   "outputs": [
    {
     "name": "stdout",
     "output_type": "stream",
     "text": [
      " 00_00_binder.ipynb\n",
      " 00_00_primer_pasos.ipynb\n",
      " 01_01_data_types.ipynb\n",
      " 01_02_read_iloc_unique_groupby.ipynb\n",
      " 02_00_data_wrangling.ipynb\n",
      " 02_01_matplotlib_lineplots.ipynb\n",
      " 02_01_null_display.ipynb\n",
      " 02_02_basic_math.ipynb\n",
      " 02_02_null_display.ipynb\n",
      " 02_03_basic_math.ipynb\n",
      " 03_00_pivot_table.ipynb\n",
      " 03_01_lambda_pivot_table.ipynb\n",
      " 04_00_matplotlib_scipy.ipynb\n",
      " 04_01_histo_Boxplots_FacetGrid.ipynb\n",
      " 04_03_hist_axis_gridspec.ipynb\n",
      " 04_04_df_filtering.ipynb\n",
      "'05_00_boxplots (box-and-whisker plot )_heat_map.ipynb'\n",
      " 05_01_area_hist_bar.ipynb\n",
      " 07_00_Multivariate_Distributions_hist_scatter.ipynb\n",
      " 07_01_Multivariate_Data.ipynb\n",
      " 07_02_pie_box_scatter_bubble.ipynb\n",
      " 07_03_unit_testing_data_wrangling.ipynb\n",
      " 08_00_Regression_Plots.ipynb\n",
      "'08_01_Linear Regression with OLS.ipynb'\n",
      " 08_02_Linear_and_logistic_regression_modeling.ipynb\n",
      "'08_03_Linear Regression using Least Squares.ipynb'\n",
      " 09_00_Plotly_Basics.ipynb\n",
      " 09_01_Dash_Board.ipynb\n",
      " 09_02_dash_board.ipynb\n",
      " A00828516_pres_interm.ipynb\n",
      " A7.ipynb\n",
      " \u001b[0m\u001b[01;34mdatasets\u001b[0m/\n",
      "'entrega2 (3).ipynb'\n",
      "'Medio término'\n",
      " README.md\n",
      " requirements.txt\n",
      "'Untitled (1).ipynb'\n"
     ]
    }
   ],
   "source": [
    "%ls"
   ]
  },
  {
   "cell_type": "code",
   "execution_count": 5,
   "id": "eba1e800-6fb6-41c5-bf61-9a2f696b2768",
   "metadata": {},
   "outputs": [
    {
     "name": "stdout",
     "output_type": "stream",
     "text": [
      "adult.csv                  census.csv     movies.csv\n",
      "airline_data.csv           coches.csv     nhanes_2015_2016.csv\n",
      "antropometria00.csv        cwurData.csv   pokemon.csv\n",
      "antropometria-dataset.csv  data.csv       sample_pivot.csv\n",
      "Book3.csv                  headbrain.csv  StudentsPerformance.csv\n",
      "Canada.xlsx                mic2.xlsx      tips.csv\n",
      "Cartwheeldata.csv          mic.xlsx       weight-height.csv\n"
     ]
    }
   ],
   "source": [
    "%ls datasets/"
   ]
  },
  {
   "cell_type": "raw",
   "id": "ddc433f4-89f9-4c34-8ce6-597a52361fb5",
   "metadata": {},
   "source": [
    "Le pedimos a jupyter que abra nuestra base de datos"
   ]
  },
  {
   "cell_type": "code",
   "execution_count": 6,
   "id": "dfe3bf49-f59e-4a02-bec0-abac3b334e36",
   "metadata": {},
   "outputs": [
    {
     "data": {
      "text/html": [
       "<div>\n",
       "<style scoped>\n",
       "    .dataframe tbody tr th:only-of-type {\n",
       "        vertical-align: middle;\n",
       "    }\n",
       "\n",
       "    .dataframe tbody tr th {\n",
       "        vertical-align: top;\n",
       "    }\n",
       "\n",
       "    .dataframe thead th {\n",
       "        text-align: right;\n",
       "    }\n",
       "</style>\n",
       "<table border=\"1\" class=\"dataframe\">\n",
       "  <thead>\n",
       "    <tr style=\"text-align: right;\">\n",
       "      <th></th>\n",
       "      <th>gender</th>\n",
       "      <th>race/ethnicity</th>\n",
       "      <th>parental level of education</th>\n",
       "      <th>lunch</th>\n",
       "      <th>test preparation course</th>\n",
       "      <th>math score</th>\n",
       "      <th>reading score</th>\n",
       "      <th>writing score</th>\n",
       "      <th>Total</th>\n",
       "    </tr>\n",
       "  </thead>\n",
       "  <tbody>\n",
       "    <tr>\n",
       "      <th>0</th>\n",
       "      <td>female</td>\n",
       "      <td>group B</td>\n",
       "      <td>bachelor's degree</td>\n",
       "      <td>standard</td>\n",
       "      <td>none</td>\n",
       "      <td>72</td>\n",
       "      <td>72</td>\n",
       "      <td>74</td>\n",
       "      <td>218</td>\n",
       "    </tr>\n",
       "    <tr>\n",
       "      <th>1</th>\n",
       "      <td>female</td>\n",
       "      <td>group C</td>\n",
       "      <td>some college</td>\n",
       "      <td>standard</td>\n",
       "      <td>completed</td>\n",
       "      <td>69</td>\n",
       "      <td>90</td>\n",
       "      <td>88</td>\n",
       "      <td>247</td>\n",
       "    </tr>\n",
       "    <tr>\n",
       "      <th>2</th>\n",
       "      <td>female</td>\n",
       "      <td>group B</td>\n",
       "      <td>master's degree</td>\n",
       "      <td>standard</td>\n",
       "      <td>none</td>\n",
       "      <td>90</td>\n",
       "      <td>95</td>\n",
       "      <td>93</td>\n",
       "      <td>278</td>\n",
       "    </tr>\n",
       "    <tr>\n",
       "      <th>3</th>\n",
       "      <td>male</td>\n",
       "      <td>group A</td>\n",
       "      <td>associate's degree</td>\n",
       "      <td>free/reduced</td>\n",
       "      <td>none</td>\n",
       "      <td>47</td>\n",
       "      <td>57</td>\n",
       "      <td>44</td>\n",
       "      <td>148</td>\n",
       "    </tr>\n",
       "    <tr>\n",
       "      <th>4</th>\n",
       "      <td>male</td>\n",
       "      <td>group C</td>\n",
       "      <td>some college</td>\n",
       "      <td>standard</td>\n",
       "      <td>none</td>\n",
       "      <td>76</td>\n",
       "      <td>78</td>\n",
       "      <td>75</td>\n",
       "      <td>229</td>\n",
       "    </tr>\n",
       "    <tr>\n",
       "      <th>...</th>\n",
       "      <td>...</td>\n",
       "      <td>...</td>\n",
       "      <td>...</td>\n",
       "      <td>...</td>\n",
       "      <td>...</td>\n",
       "      <td>...</td>\n",
       "      <td>...</td>\n",
       "      <td>...</td>\n",
       "      <td>...</td>\n",
       "    </tr>\n",
       "    <tr>\n",
       "      <th>995</th>\n",
       "      <td>female</td>\n",
       "      <td>group E</td>\n",
       "      <td>master's degree</td>\n",
       "      <td>standard</td>\n",
       "      <td>completed</td>\n",
       "      <td>88</td>\n",
       "      <td>99</td>\n",
       "      <td>95</td>\n",
       "      <td>282</td>\n",
       "    </tr>\n",
       "    <tr>\n",
       "      <th>996</th>\n",
       "      <td>male</td>\n",
       "      <td>group C</td>\n",
       "      <td>high school</td>\n",
       "      <td>free/reduced</td>\n",
       "      <td>none</td>\n",
       "      <td>62</td>\n",
       "      <td>55</td>\n",
       "      <td>55</td>\n",
       "      <td>172</td>\n",
       "    </tr>\n",
       "    <tr>\n",
       "      <th>997</th>\n",
       "      <td>female</td>\n",
       "      <td>group C</td>\n",
       "      <td>high school</td>\n",
       "      <td>free/reduced</td>\n",
       "      <td>completed</td>\n",
       "      <td>59</td>\n",
       "      <td>71</td>\n",
       "      <td>65</td>\n",
       "      <td>195</td>\n",
       "    </tr>\n",
       "    <tr>\n",
       "      <th>998</th>\n",
       "      <td>female</td>\n",
       "      <td>group D</td>\n",
       "      <td>some college</td>\n",
       "      <td>standard</td>\n",
       "      <td>completed</td>\n",
       "      <td>68</td>\n",
       "      <td>78</td>\n",
       "      <td>77</td>\n",
       "      <td>223</td>\n",
       "    </tr>\n",
       "    <tr>\n",
       "      <th>999</th>\n",
       "      <td>female</td>\n",
       "      <td>group D</td>\n",
       "      <td>some college</td>\n",
       "      <td>free/reduced</td>\n",
       "      <td>none</td>\n",
       "      <td>77</td>\n",
       "      <td>86</td>\n",
       "      <td>86</td>\n",
       "      <td>249</td>\n",
       "    </tr>\n",
       "  </tbody>\n",
       "</table>\n",
       "<p>1000 rows × 9 columns</p>\n",
       "</div>"
      ],
      "text/plain": [
       "     gender race/ethnicity parental level of education         lunch  \\\n",
       "0    female        group B           bachelor's degree      standard   \n",
       "1    female        group C                some college      standard   \n",
       "2    female        group B             master's degree      standard   \n",
       "3      male        group A          associate's degree  free/reduced   \n",
       "4      male        group C                some college      standard   \n",
       "..      ...            ...                         ...           ...   \n",
       "995  female        group E             master's degree      standard   \n",
       "996    male        group C                 high school  free/reduced   \n",
       "997  female        group C                 high school  free/reduced   \n",
       "998  female        group D                some college      standard   \n",
       "999  female        group D                some college  free/reduced   \n",
       "\n",
       "    test preparation course  math score  reading score  writing score  Total  \n",
       "0                      none          72             72             74    218  \n",
       "1                 completed          69             90             88    247  \n",
       "2                      none          90             95             93    278  \n",
       "3                      none          47             57             44    148  \n",
       "4                      none          76             78             75    229  \n",
       "..                      ...         ...            ...            ...    ...  \n",
       "995               completed          88             99             95    282  \n",
       "996                    none          62             55             55    172  \n",
       "997               completed          59             71             65    195  \n",
       "998               completed          68             78             77    223  \n",
       "999                    none          77             86             86    249  \n",
       "\n",
       "[1000 rows x 9 columns]"
      ]
     },
     "execution_count": 6,
     "metadata": {},
     "output_type": "execute_result"
    }
   ],
   "source": [
    "path = 'datasets/StudentsPerformance.csv'\n",
    "df = pd.read_csv(path)\n",
    "df"
   ]
  },
  {
   "cell_type": "raw",
   "id": "7f851aac-3f43-4465-9a46-b7a0a293fa14",
   "metadata": {},
   "source": [
    "Observamos la calificación obtenida por alumno en cada examen y su puntación total en la columna \"Total\""
   ]
  },
  {
   "cell_type": "code",
   "execution_count": 7,
   "id": "70ccd8de-274d-42d3-acfd-450b768c3723",
   "metadata": {},
   "outputs": [
    {
     "data": {
      "text/plain": [
       "Index(['gender', 'race/ethnicity', 'parental level of education', 'lunch',\n",
       "       'test preparation course', 'math score', 'reading score',\n",
       "       'writing score', 'Total'],\n",
       "      dtype='object')"
      ]
     },
     "execution_count": 7,
     "metadata": {},
     "output_type": "execute_result"
    }
   ],
   "source": [
    "df.columns"
   ]
  },
  {
   "cell_type": "raw",
   "id": "a2f8f83e-a936-4b61-90d7-d75069902be7",
   "metadata": {},
   "source": [
    "Analizamos el tipo de variables que nuestra base de datos posee."
   ]
  },
  {
   "cell_type": "code",
   "execution_count": 13,
   "id": "ede85e10-ac6b-417d-8faf-8032ad6236a0",
   "metadata": {},
   "outputs": [
    {
     "name": "stdout",
     "output_type": "stream",
     "text": [
      "<class 'pandas.core.frame.DataFrame'>\n",
      "RangeIndex: 1000 entries, 0 to 999\n",
      "Data columns (total 9 columns):\n",
      " #   Column                       Non-Null Count  Dtype \n",
      "---  ------                       --------------  ----- \n",
      " 0   gender                       1000 non-null   object\n",
      " 1   race/ethnicity               1000 non-null   object\n",
      " 2   parental level of education  1000 non-null   object\n",
      " 3   lunch                        1000 non-null   object\n",
      " 4   test preparation course      1000 non-null   object\n",
      " 5   math score                   1000 non-null   int64 \n",
      " 6   reading score                1000 non-null   int64 \n",
      " 7   writing score                1000 non-null   int64 \n",
      " 8   Total                        1000 non-null   int64 \n",
      "dtypes: int64(4), object(5)\n",
      "memory usage: 70.4+ KB\n"
     ]
    }
   ],
   "source": [
    "\n",
    "df.info()"
   ]
  },
  {
   "cell_type": "raw",
   "id": "efaa9a7b-c1a4-4ae3-9b63-595b456d745e",
   "metadata": {},
   "source": [
    "Obtenemos una descrpición de los datos."
   ]
  },
  {
   "cell_type": "code",
   "execution_count": 10,
   "id": "63bcc46d-9a38-4191-a341-ebe937fec3dc",
   "metadata": {},
   "outputs": [
    {
     "data": {
      "text/html": [
       "<div>\n",
       "<style scoped>\n",
       "    .dataframe tbody tr th:only-of-type {\n",
       "        vertical-align: middle;\n",
       "    }\n",
       "\n",
       "    .dataframe tbody tr th {\n",
       "        vertical-align: top;\n",
       "    }\n",
       "\n",
       "    .dataframe thead th {\n",
       "        text-align: right;\n",
       "    }\n",
       "</style>\n",
       "<table border=\"1\" class=\"dataframe\">\n",
       "  <thead>\n",
       "    <tr style=\"text-align: right;\">\n",
       "      <th></th>\n",
       "      <th>math score</th>\n",
       "      <th>reading score</th>\n",
       "      <th>writing score</th>\n",
       "      <th>Total</th>\n",
       "    </tr>\n",
       "  </thead>\n",
       "  <tbody>\n",
       "    <tr>\n",
       "      <th>count</th>\n",
       "      <td>1000.00000</td>\n",
       "      <td>1000.000000</td>\n",
       "      <td>1000.000000</td>\n",
       "      <td>1000.000000</td>\n",
       "    </tr>\n",
       "    <tr>\n",
       "      <th>mean</th>\n",
       "      <td>66.08900</td>\n",
       "      <td>69.169000</td>\n",
       "      <td>68.054000</td>\n",
       "      <td>203.312000</td>\n",
       "    </tr>\n",
       "    <tr>\n",
       "      <th>std</th>\n",
       "      <td>15.16308</td>\n",
       "      <td>14.600192</td>\n",
       "      <td>15.195657</td>\n",
       "      <td>42.771978</td>\n",
       "    </tr>\n",
       "    <tr>\n",
       "      <th>min</th>\n",
       "      <td>0.00000</td>\n",
       "      <td>17.000000</td>\n",
       "      <td>10.000000</td>\n",
       "      <td>27.000000</td>\n",
       "    </tr>\n",
       "    <tr>\n",
       "      <th>25%</th>\n",
       "      <td>57.00000</td>\n",
       "      <td>59.000000</td>\n",
       "      <td>57.750000</td>\n",
       "      <td>175.000000</td>\n",
       "    </tr>\n",
       "    <tr>\n",
       "      <th>50%</th>\n",
       "      <td>66.00000</td>\n",
       "      <td>70.000000</td>\n",
       "      <td>69.000000</td>\n",
       "      <td>205.000000</td>\n",
       "    </tr>\n",
       "    <tr>\n",
       "      <th>75%</th>\n",
       "      <td>77.00000</td>\n",
       "      <td>79.000000</td>\n",
       "      <td>79.000000</td>\n",
       "      <td>233.000000</td>\n",
       "    </tr>\n",
       "    <tr>\n",
       "      <th>max</th>\n",
       "      <td>100.00000</td>\n",
       "      <td>100.000000</td>\n",
       "      <td>100.000000</td>\n",
       "      <td>300.000000</td>\n",
       "    </tr>\n",
       "  </tbody>\n",
       "</table>\n",
       "</div>"
      ],
      "text/plain": [
       "       math score  reading score  writing score        Total\n",
       "count  1000.00000    1000.000000    1000.000000  1000.000000\n",
       "mean     66.08900      69.169000      68.054000   203.312000\n",
       "std      15.16308      14.600192      15.195657    42.771978\n",
       "min       0.00000      17.000000      10.000000    27.000000\n",
       "25%      57.00000      59.000000      57.750000   175.000000\n",
       "50%      66.00000      70.000000      69.000000   205.000000\n",
       "75%      77.00000      79.000000      79.000000   233.000000\n",
       "max     100.00000     100.000000     100.000000   300.000000"
      ]
     },
     "execution_count": 10,
     "metadata": {},
     "output_type": "execute_result"
    }
   ],
   "source": [
    "df.describe()\n"
   ]
  },
  {
   "cell_type": "markdown",
   "id": "90c05203-caa7-449a-bdfd-38f079ab59a4",
   "metadata": {},
   "source": [
    "# ¿Existen valores atípicos en los resultados de matemáticas, comprensión lectora y escritura?"
   ]
  },
  {
   "cell_type": "code",
   "execution_count": 18,
   "id": "32c444bf-4a31-42db-ac82-4824c95a0457",
   "metadata": {},
   "outputs": [
    {
     "data": {
      "text/plain": [
       "<matplotlib.axes._subplots.AxesSubplot at 0x7f20f9b406d0>"
      ]
     },
     "execution_count": 18,
     "metadata": {},
     "output_type": "execute_result"
    },
    {
     "data": {
      "image/png": "[encoded data removed]",
      "text/plain": [
       "<Figure size 432x288 with 1 Axes>"
      ]
     },
     "metadata": {
      "needs_background": "light"
     },
     "output_type": "display_data"
    }
   ],
   "source": [
    "\n",
    "sns.boxplot(data=df.loc[:,['math score','reading score','writing score']])"
   ]
  },
  {
   "cell_type": "raw",
   "id": "fbfd7c63-cf15-4323-958f-29490aa18bbc",
   "metadata": {},
   "source": [
    "Observamos que existen ciertos datos atípicos en la variable resultados de matemáticas, comprensión lectora y escritura."
   ]
  },
  {
   "cell_type": "markdown",
   "id": "71d92f08-9da9-4c3e-9ed3-e5305fed3fc3",
   "metadata": {},
   "source": [
    "# ¿Los alumnos obtienen buenas calificaciones en matemáticas?"
   ]
  },
  {
   "cell_type": "code",
   "execution_count": null,
   "id": "ab13c155-49a6-4ba5-95aa-f71121a02b8d",
   "metadata": {},
   "outputs": [],
   "source": [
    "data = [df.loc[:,'math score'],]\n",
    "patches=plt.pie(data, bins = 15)"
   ]
  },
  {
   "cell_type": "raw",
   "id": "543c2557-a271-4852-81d3-fadb8ec339e2",
   "metadata": {},
   "source": [
    "Se puede observar que una gran cantidad de alumnos obtiene una calificación de entre 60 y 70 puntos por lo que podemos decir \n",
    "que la mayoría obtiene calificaciones reprobatorias"
   ]
  },
  {
   "cell_type": "markdown",
   "id": "1101447a-9df8-4370-8cc2-e85d0ff6a702",
   "metadata": {},
   "source": [
    "# ¿Los alumnos obtienen buenas calificaciones en comprensión lectora?"
   ]
  },
  {
   "cell_type": "code",
   "execution_count": null,
   "id": "c7e7cc25-505a-471a-b73f-cca4e2090f77",
   "metadata": {},
   "outputs": [],
   "source": [
    "data = [df.loc[:,'reading score'],]\n",
    "patches=plt.pie(data, bins = 15)"
   ]
  },
  {
   "cell_type": "raw",
   "id": "d6b9bce1-6783-47a6-88f6-5c61d0545d9b",
   "metadata": {},
   "source": [
    "En el histograma podemos observar que la mayoría de estudiantes también obtienen calificaciones reprobatorias en comprensión lectora"
   ]
  },
  {
   "cell_type": "markdown",
   "id": "9969efa0-5dc3-47d7-8806-e3f5c053863d",
   "metadata": {},
   "source": [
    "# ¿Los alumnos obtienen buenas calificaciones en escritura?"
   ]
  },
  {
   "cell_type": "code",
   "execution_count": 15,
   "id": "7027ddb6-e9dd-43e1-8a6b-90baa9166365",
   "metadata": {},
   "outputs": [
    {
     "data": {
      "image/png": "[encoded data removed]",
      "text/plain": [
       "<Figure size 432x288 with 1 Axes>"
      ]
     },
     "metadata": {
      "needs_background": "light"
     },
     "output_type": "display_data"
    }
   ],
   "source": [
    "data = [df.loc[:,'writing score'],]\n",
    "patches=plt.hist(data, bins = 15)"
   ]
  },
  {
   "cell_type": "raw",
   "id": "2517b34b-d30e-4752-9754-219c169d06bc",
   "metadata": {},
   "source": [
    "En el histograma podemos observar que la mayoría de estudiantes también obtienen calificaciones reprobatorias en escritura."
   ]
  },
  {
   "cell_type": "raw",
   "id": "57b268b0-ea08-41eb-b120-0a4ccac3ec7f",
   "metadata": {},
   "source": [
    "Se puede concluir con que a la mayoría de alumnos les va mal en calificaciones en los 3 tipos de examenes aplicados."
   ]
  },
  {
   "cell_type": "markdown",
   "id": "a60c44bc-d0cb-4ead-a94b-b77cd5b5d2c3",
   "metadata": {},
   "source": [
    "# ¿Cuántos alumnos recibieron la preparación para tomar los examenes?"
   ]
  },
  {
   "cell_type": "code",
   "execution_count": 35,
   "id": "6564a220-db50-4ec4-aadc-1d9daf6e90ed",
   "metadata": {},
   "outputs": [
    {
     "data": {
      "text/plain": [
       "none         642\n",
       "completed    358\n",
       "Name: test preparation course, dtype: int64"
      ]
     },
     "execution_count": 35,
     "metadata": {},
     "output_type": "execute_result"
    }
   ],
   "source": [
    "pd.value_counts(df['test preparation course'])"
   ]
  },
  {
   "cell_type": "raw",
   "id": "9bced361-0deb-4fff-a790-47b106001758",
   "metadata": {},
   "source": [
    "Podemos observar que solo una tercera parte de los alumnos completó el curso "
   ]
  },
  {
   "cell_type": "markdown",
   "id": "bb080114-d0a8-4d0c-b3ca-2651f15d695a",
   "metadata": {
    "tags": []
   },
   "source": [
    "# ¿Qué tanto influyen la calificaciones de matemáticas en el resultado total?"
   ]
  },
  {
   "cell_type": "code",
   "execution_count": 20,
   "id": "0c9b4a1f-4fae-4287-8e37-e2e426b651f1",
   "metadata": {},
   "outputs": [
    {
     "data": {
      "text/plain": [
       "<seaborn.axisgrid.FacetGrid at 0x7fb63143e890>"
      ]
     },
     "execution_count": 20,
     "metadata": {},
     "output_type": "execute_result"
    },
    {
     "data": {
      "image/png": "[encoded data removed]",
      "text/plain": [
       "<Figure size 484.75x360 with 1 Axes>"
      ]
     },
     "metadata": {
      "needs_background": "light"
     },
     "output_type": "display_data"
    }
   ],
   "source": [
    "sns.lmplot(x='math score',\n",
    " y='Total',\n",
    " data=df,\n",
    " fit_reg=False,\n",
    " hue= 'test preparation course'\n",
    " )\n"
   ]
  },
  {
   "cell_type": "markdown",
   "id": "c908a822-fa1c-4732-adbb-8154d2cc6ab9",
   "metadata": {},
   "source": [
    "# ¿Qué tanto influyen la calificaciones de comprensión lectora en el resultado total?"
   ]
  },
  {
   "cell_type": "code",
   "execution_count": 21,
   "id": "f9988458-a90e-484b-94f6-e62ef669e5f8",
   "metadata": {},
   "outputs": [
    {
     "data": {
      "text/plain": [
       "Text(0.5, 1.0, 'Scatter plot of sistol vs cintura')"
      ]
     },
     "execution_count": 21,
     "metadata": {},
     "output_type": "execute_result"
    },
    {
     "data": {
      "image/png": "[encoded data removed]",
      "text/plain": [
       "<Figure size 484.75x360 with 1 Axes>"
      ]
     },
     "metadata": {
      "needs_background": "light"
     },
     "output_type": "display_data"
    }
   ],
   "source": [
    "sns.lmplot(x='reading score',\n",
    " y='Total',\n",
    " data=df,\n",
    " fit_reg=False,\n",
    " hue= 'test preparation course'\n",
    " )\n"
   ]
  },
  {
   "cell_type": "markdown",
   "id": "dba6c9e3-89e4-45a2-ac86-6e121fcf7d29",
   "metadata": {},
   "source": [
    "# ¿Qué tanto influyen la calificaciones de comprensión lectora en el resultado total?"
   ]
  },
  {
   "cell_type": "code",
   "execution_count": 22,
   "id": "3b4ee3a9-9316-44fa-ac2b-78ae2b22c70d",
   "metadata": {},
   "outputs": [
    {
     "data": {
      "text/plain": [
       "<seaborn.axisgrid.FacetGrid at 0x7fb63147aa10>"
      ]
     },
     "execution_count": 22,
     "metadata": {},
     "output_type": "execute_result"
    },
    {
     "data": {
      "image/png": "[encoded data removed]",
      "text/plain": [
       "<Figure size 484.75x360 with 1 Axes>"
      ]
     },
     "metadata": {
      "needs_background": "light"
     },
     "output_type": "display_data"
    }
   ],
   "source": [
    "sns.lmplot(x='writing score',\n",
    " y='Total',\n",
    " data=df,\n",
    " fit_reg=False,\n",
    " hue= 'test preparation course'\n",
    " )\n"
   ]
  },
  {
   "cell_type": "raw",
   "id": "6ae70b2d-bf17-44aa-af12-79f8d4430ead",
   "metadata": {},
   "source": [
    "Podemos concluir que las calificaciones de matemáticas, comprensión lectora y escritura tienen una relación con el total de puntuación de los examenes y que observando a detalle cada una de las gráficas sabemos que el haber tomado el curso de preparación los alumnos obtuvieron ligeramente mejores calificaciones que lo slaumnos que no lo tomaron."
   ]
  }
 ],
 "metadata": {
  "kernelspec": {
   "display_name": "Python 3 (ipykernel)",
   "language": "python",
   "name": "python3"
  },
  "language_info": {
   "codemirror_mode": {
    "name": "ipython",
    "version": 3
   },
   "file_extension": ".py",
   "mimetype": "text/x-python",
   "name": "python",
   "nbconvert_exporter": "python",
   "pygments_lexer": "ipython3",
   "version": "3.7.12"
  }
 },
 "nbformat": 4,
 "nbformat_minor": 5
}
